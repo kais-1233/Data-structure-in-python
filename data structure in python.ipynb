{
 "cells": [
  {
   "cell_type": "markdown",
   "id": "ce4493ce-53be-4826-b2f2-0281415cce10",
   "metadata": {
    "editable": true,
    "slideshow": {
     "slide_type": ""
    },
    "tags": []
   },
   "source": [
    "### 1. Write a code to reverse a string"
   ]
  },
  {
   "cell_type": "code",
   "execution_count": 9,
   "id": "dc689e4b-2b5a-42ec-b0ed-0110131ffbda",
   "metadata": {},
   "outputs": [
    {
     "name": "stdout",
     "output_type": "stream",
     "text": [
      "llikswp\n"
     ]
    }
   ],
   "source": [
    "string= \"pwskill\"\n",
    "reverse=string[::-1]\n",
    "print(reverse)"
   ]
  },
  {
   "cell_type": "markdown",
   "id": "a0539060-07bf-4295-8c20-d9121d40b0f2",
   "metadata": {},
   "source": [
    "### 2.Write a code to count the number of vowels in a string"
   ]
  },
  {
   "cell_type": "code",
   "execution_count": 2,
   "id": "680117ca-f258-4839-b2aa-40b6d65c9ab9",
   "metadata": {
    "editable": true,
    "slideshow": {
     "slide_type": ""
    },
    "tags": []
   },
   "outputs": [
    {
     "name": "stdout",
     "output_type": "stream",
     "text": [
      "5\n"
     ]
    }
   ],
   "source": [
    "vowel=\"AEIOU\"\n",
    "count= len(vowel)\n",
    "print(count) \n"
   ]
  },
  {
   "cell_type": "code",
   "execution_count": 11,
   "id": "0fc201df-c172-4c3f-b0bf-9db6abbfaebd",
   "metadata": {},
   "outputs": [
    {
     "name": "stdin",
     "output_type": "stream",
     "text": [
      "enter vowel chracter: aeiou\n"
     ]
    },
    {
     "name": "stdout",
     "output_type": "stream",
     "text": [
      "5\n"
     ]
    }
   ],
   "source": [
    "vowel=input((\"enter vowel chracter:\"))\n",
    "count=len(vowel)\n",
    "print(count)"
   ]
  },
  {
   "cell_type": "markdown",
   "id": "27b55cf7-c4af-4131-9228-2a3e1bfbbf6e",
   "metadata": {},
   "source": [
    "### 4.Write a code to check if two given strings are anagrams of each other"
   ]
  },
  {
   "cell_type": "code",
   "execution_count": 1,
   "id": "658737ad-295f-4a20-9236-b7365e023ab3",
   "metadata": {},
   "outputs": [
    {
     "name": "stdin",
     "output_type": "stream",
     "text": [
      "string1: heart\n",
      "string2: earth\n"
     ]
    },
    {
     "name": "stdout",
     "output_type": "stream",
     "text": [
      "this is anagrams:\n"
     ]
    }
   ],
   "source": [
    "str1= input(\"string1:\")\n",
    "str2= input(\"string2:\")\n",
    "\n",
    "str_sorted1 = sorted(str1)\n",
    "str_sorted2 = sorted(str2)\n",
    "\n",
    "if str_sorted1==str_sorted2:\n",
    "    print(\"this is anagrams:\")\n",
    "else:\n",
    "     print(\"this is not anagram:\")"
   ]
  },
  {
   "cell_type": "markdown",
   "id": "8c55c232-b6a1-44eb-b39e-e4e6ee00439b",
   "metadata": {},
   "source": [
    "### 5. Write a code to find all occurrences of a given substring within another string"
   ]
  },
  {
   "cell_type": "code",
   "execution_count": 1,
   "id": "f55f7d4f-fbf6-4b93-8bf6-67e17d6311c2",
   "metadata": {},
   "outputs": [
    {
     "name": "stdout",
     "output_type": "stream",
     "text": [
      "How are \n"
     ]
    }
   ],
   "source": [
    "substring = \"How are you \"\n",
    "string = substring[0:8]\n",
    "print(string)"
   ]
  },
  {
   "cell_type": "markdown",
   "id": "b2f07f03-b06a-47eb-8f97-059b93f5a843",
   "metadata": {},
   "source": [
    "### 6.Write a code to perform basic string compression using the counts of repeated characters"
   ]
  },
  {
   "cell_type": "code",
   "execution_count": 1,
   "id": "0d36f804-7e5b-43d8-a56f-69fd32c1f1fd",
   "metadata": {},
   "outputs": [
    {
     "name": "stdin",
     "output_type": "stream",
     "text": [
      "enter chracter: errrttt\n"
     ]
    },
    {
     "name": "stdout",
     "output_type": "stream",
     "text": [
      "e1r3t3\n"
     ]
    }
   ],
   "source": [
    "s = str(input(\"enter chracter:\"))\n",
    "compressed = \"\"\n",
    "i = 0\n",
    "\n",
    "while i < len(s):\n",
    "    count = 1\n",
    "    while i + 1 < len(s) and s[i] == s[i + 1]:\n",
    "        count += 1\n",
    "        i += 1\n",
    "    \n",
    "    compressed += s[i] + str(count)\n",
    "    i += 1\n",
    "\n",
    "print(compressed)\n"
   ]
  },
  {
   "cell_type": "markdown",
   "id": "a0b3eee8-63a7-4571-b84b-a01641736919",
   "metadata": {},
   "source": [
    "### 7. Write a code to determine if a string has all unique characters"
   ]
  },
  {
   "cell_type": "code",
   "execution_count": 7,
   "id": "a3e4dfdf-4160-46f9-bf66-16db99a0556c",
   "metadata": {},
   "outputs": [
    {
     "name": "stdin",
     "output_type": "stream",
     "text": [
      "enter string: asdfgh\n"
     ]
    },
    {
     "name": "stdout",
     "output_type": "stream",
     "text": [
      "The string has all unique characters.\n"
     ]
    }
   ],
   "source": [
    "s = input(\"enter string:\") \n",
    "\n",
    "\n",
    "seen_chars = set()\n",
    "\n",
    "\n",
    "is_unique = True\n",
    "for char in s:\n",
    "    if char in seen_chars:\n",
    "        is_unique = False\n",
    "        break\n",
    "    seen_chars.add(char)\n",
    "\n",
    "\n",
    "if is_unique:\n",
    "    print(\"The string has all unique characters.\")\n",
    "else:\n",
    "    print(\"The string does not have all unique characters.\")\n"
   ]
  },
  {
   "cell_type": "markdown",
   "id": "bd678870-633a-4876-b4f9-c0e442a7b298",
   "metadata": {},
   "source": [
    "### 8.Write a code to convert a given string to uppercase or lowercase\n"
   ]
  },
  {
   "cell_type": "code",
   "execution_count": 9,
   "id": "8f3d57e2-8767-4877-9b86-60da3bf3904f",
   "metadata": {},
   "outputs": [
    {
     "name": "stdout",
     "output_type": "stream",
     "text": [
      "Uppercase: HELLO, WORLD!\n",
      "Lowercase: hello, world!\n"
     ]
    }
   ],
   "source": [
    "s = \"HeLlo, WOrld!\"  \n",
    "\n",
    "# Convert to uppercase\n",
    "uppercase_string = s.upper()\n",
    "print(\"Uppercase:\", uppercase_string)\n",
    "\n",
    "# Convert to lowercase\n",
    "lowercase_string = s.lower()\n",
    "print(\"Lowercase:\", lowercase_string)"
   ]
  },
  {
   "cell_type": "markdown",
   "id": "2113e981-2265-4274-a036-aab0f6b00595",
   "metadata": {},
   "source": [
    "### 9. Write a code to count the number of words in a string"
   ]
  },
  {
   "cell_type": "code",
   "execution_count": 10,
   "id": "80e541b1-6eab-4aa9-b893-3eaecd617b8c",
   "metadata": {},
   "outputs": [
    {
     "name": "stdout",
     "output_type": "stream",
     "text": [
      "Number of words: 6\n"
     ]
    }
   ],
   "source": [
    " s = \"Hello, this is a sample sentence.\"   \n",
    "\n",
    "# Split the string into words using whitespace as the separator\n",
    "words = s.split()\n",
    "\n",
    "# Count the number of words\n",
    "word_count = len(words)\n",
    "\n",
    "\n",
    "print(\"Number of words:\", word_count)\n"
   ]
  },
  {
   "cell_type": "markdown",
   "id": "69caae54-7dd0-411d-959a-de39606efe73",
   "metadata": {},
   "source": [
    "### 10.  Write a code to concatenate two strings without using the + operator"
   ]
  },
  {
   "cell_type": "code",
   "execution_count": 15,
   "id": "aadb70cc-5534-4500-a694-fd7b6c63ced2",
   "metadata": {},
   "outputs": [
    {
     "name": "stdout",
     "output_type": "stream",
     "text": [
      "Concatenated String: HelloWorld\n"
     ]
    }
   ],
   "source": [
    "str1 = \"Hello\"\n",
    "str2 = \"World\"\n",
    "\n",
    "# Concatenate using join() method\n",
    "result = \"\".join([str1, str2])\n",
    "\n",
    "print(\"Concatenated String:\", result)"
   ]
  },
  {
   "cell_type": "markdown",
   "id": "9492de90-8dec-496c-9008-21dd536e457a",
   "metadata": {},
   "source": [
    " ### 11.Write a code to remove all occurrences of a specific element from a list"
   ]
  },
  {
   "cell_type": "code",
   "execution_count": 18,
   "id": "f4007a67-dac8-476e-8244-205660eee4f3",
   "metadata": {},
   "outputs": [
    {
     "name": "stdout",
     "output_type": "stream",
     "text": [
      "Updated List: [1, 3, 4, 5]\n"
     ]
    }
   ],
   "source": [
    "my_list = [1, 2, 3, 4, 2, 5, 2]\n",
    "element_to_remove = 2\n",
    "\n",
    "my_list = [x for x in my_list if x != element_to_remove]\n",
    "\n",
    "print(\"Updated List:\", my_list)"
   ]
  },
  {
   "cell_type": "markdown",
   "id": "8d833a50-064d-4e11-bec3-f7f2193fe4b1",
   "metadata": {},
   "source": [
    "### 12. Implement a code to find the second largest number in a given list of integers"
   ]
  },
  {
   "cell_type": "code",
   "execution_count": 3,
   "id": "70aa1f6b-dc9d-405c-9264-687e6f50ccba",
   "metadata": {},
   "outputs": [
    {
     "name": "stdout",
     "output_type": "stream",
     "text": [
      "32\n"
     ]
    }
   ],
   "source": [
    "list1 = [11,22,1,2,5,67,21,32,23,25]\n",
    "\n",
    "new_list = set(list1)\n",
    "# removing the largest element from list\n",
    "new_list.remove(max(new_list))\n",
    "# now computing the max element by built-in method?\n",
    "print(max(new_list))"
   ]
  },
  {
   "cell_type": "markdown",
   "id": "94bfab9a-af72-4f56-89aa-acf485fc28e7",
   "metadata": {},
   "source": [
    "### 13.  Create a code to count the occurrences of each element in a list and return a dictionary with elements as \n",
    "### keys and their counts as values"
   ]
  },
  {
   "cell_type": "code",
   "execution_count": 4,
   "id": "0e0bfe59-9395-4998-8190-ed07e5959207",
   "metadata": {},
   "outputs": [
    {
     "name": "stdout",
     "output_type": "stream",
     "text": [
      "{'apple': 2, 'banana': 3, 'orange': 1, 'mango': 1}\n"
     ]
    }
   ],
   "source": [
    "a = ['apple', 'banana', 'apple', 'orange', 'banana', 'banana','mango']\n",
    "\n",
    "\n",
    "b = {}  # empty dictionary to store the counts\n",
    "\n",
    "\n",
    "for c in a:\n",
    "    # If the item is already in dictionary, increase its count\n",
    "    if c in b:\n",
    "        b[c] += 1\n",
    "    # If the item is not in dictionary, add it with a count of 1\n",
    "    else:\n",
    "        b[c] = 1\n",
    "print(b)"
   ]
  },
  {
   "cell_type": "markdown",
   "id": "9a866031-8050-4aa9-86e3-6439de22946b",
   "metadata": {},
   "source": [
    " ### 14.Write a code to reverse a list in-place without using any built-in reverse functions"
   ]
  },
  {
   "cell_type": "code",
   "execution_count": 6,
   "id": "5baf1c64-6d28-4e78-a758-9f90c7c01244",
   "metadata": {},
   "outputs": [
    {
     "name": "stdout",
     "output_type": "stream",
     "text": [
      "[8, 7, 6, 5, 4, 3, 2, 1, 0]\n"
     ]
    }
   ],
   "source": [
    "a = [0,1, 2, 3, 4, 5,6,7,8]\n",
    "\n",
    "start = 0\n",
    "end = len(a) - 1\n",
    "\n",
    "# Swap elements until start index crosses end index\n",
    "while start < end:\n",
    "    a[start], a[end] = a[end], a[start]  \n",
    "    start += 1 \n",
    "    end -= 1  \n",
    "print(a)"
   ]
  },
  {
   "cell_type": "markdown",
   "id": "bf694654-69fb-4bcd-9b97-a4ecc674ead7",
   "metadata": {},
   "source": [
    "### 15.Implement a code to find and remove duplicates from a list while preserving the original order of elements"
   ]
  },
  {
   "cell_type": "code",
   "execution_count": 2,
   "id": "a8ab0bf3-a324-47cb-aae7-6407bff973bb",
   "metadata": {},
   "outputs": [
    {
     "name": "stdout",
     "output_type": "stream",
     "text": [
      "[1, 2, 3, 4, 5, 7, 6]\n"
     ]
    }
   ],
   "source": [
    "original_list = [1, 2, 2, 3,4, 4, 3, 5, 1,7, 6]\n",
    "seen = set()\n",
    "result = []\n",
    "\n",
    "for item in original_list:\n",
    "    if item not in seen:\n",
    "        result.append(item)\n",
    "        seen.add(item)\n",
    "\n",
    "print(result)   "
   ]
  },
  {
   "cell_type": "markdown",
   "id": "df1cecd0-867c-40fd-b813-28991db731fa",
   "metadata": {},
   "source": [
    "### 16. Create a code to check if a given list is sorted (either in ascending or descending order) or not"
   ]
  },
  {
   "cell_type": "code",
   "execution_count": 7,
   "id": "47287e01-795e-4aae-a8e5-0278fdfd4dec",
   "metadata": {},
   "outputs": [
    {
     "name": "stdout",
     "output_type": "stream",
     "text": [
      "ascending order [3, 5, 7, 8, 9, 12]\n",
      "descending order [12, 9, 8, 7, 5, 3]\n"
     ]
    }
   ],
   "source": [
    "a = [3,5,7,8,9,12]\n",
    "a.sort()\n",
    "print(\"ascending order\",a,)\n",
    "a.sort(reverse=True)\n",
    "print(\"descending order\",a)\n"
   ]
  },
  {
   "cell_type": "markdown",
   "id": "116c3594-40e1-4bbd-8837-c915fb7a152d",
   "metadata": {},
   "source": [
    "### 17. Write a code to merge two sorted lists into a single sorted list"
   ]
  },
  {
   "cell_type": "code",
   "execution_count": 1,
   "id": "84d52f0c-7882-48a7-9bc9-4d96afbc6c7b",
   "metadata": {},
   "outputs": [
    {
     "name": "stdout",
     "output_type": "stream",
     "text": [
      "[1, 2, 3, 4, 5, 6, 7, 8]\n"
     ]
    }
   ],
   "source": [
    "list1 = [1, 3, 5, 7]\n",
    "list2 = [2, 4, 6, 8]\n",
    "\n",
    "merged_list = []\n",
    "i = j = 0\n",
    "\n",
    "# Merge the two lists\n",
    "while i < len(list1) and j < len(list2):\n",
    "    if list1[i] < list2[j]:\n",
    "        merged_list.append(list1[i])\n",
    "        i += 1\n",
    "    else:\n",
    "        merged_list.append(list2[j])\n",
    "        j += 1\n",
    "\n",
    "# Append remaining elements\n",
    "merged_list.extend(list1[i:])\n",
    "merged_list.extend(list2[j:])\n",
    "\n",
    "print(merged_list)\n"
   ]
  },
  {
   "cell_type": "markdown",
   "id": "046715b2-981a-44a6-b007-b08479e9d39b",
   "metadata": {},
   "source": [
    "### 18. Implement a code to find the intersection of two given lists"
   ]
  },
  {
   "cell_type": "code",
   "execution_count": 3,
   "id": "5e1ae462-6bf9-4a4d-ae83-d21feb9d9df0",
   "metadata": {},
   "outputs": [
    {
     "data": {
      "text/plain": [
       "[1, 9, 11, 26, 28]"
      ]
     },
     "execution_count": 3,
     "metadata": {},
     "output_type": "execute_result"
    }
   ],
   "source": [
    "a = [4, 9, 1, 17, 11, 26, 28, 54, 69]\n",
    "b = [1,9, 9, 74, 21, 45, 11, 63, 28, 26]\n",
    "\n",
    "intersection= list(set(a) & set(b))\n",
    "intersection"
   ]
  },
  {
   "cell_type": "markdown",
   "id": "0c99d621-c462-4014-830d-cca931f0fc3b",
   "metadata": {},
   "source": [
    "### 19. Create a code to find the union of two lists without duplicates"
   ]
  },
  {
   "cell_type": "code",
   "execution_count": 4,
   "id": "7d66c249-62bd-407f-aaff-433b0ac78572",
   "metadata": {},
   "outputs": [
    {
     "name": "stdout",
     "output_type": "stream",
     "text": [
      "[1, 2, 3, 4, 5, 6, 7]\n"
     ]
    }
   ],
   "source": [
    "a = [1, 2, 3, 4,5,6]\n",
    "b = [3, 4, 5, 6,7,6]\n",
    "\n",
    "\n",
    "union_list = list(set(a).union(b))\n",
    "\n",
    "print(union_list)\n"
   ]
  },
  {
   "cell_type": "markdown",
   "id": "bdfa7133-7724-4bd9-aacf-df4787ff6f38",
   "metadata": {},
   "source": [
    "### 20. Write a code to shuffle a given list randomly without using any built-in shuffle functions"
   ]
  },
  {
   "cell_type": "code",
   "execution_count": 7,
   "id": "3cf33ea1-51ec-4ba9-b186-382dc0122b23",
   "metadata": {},
   "outputs": [
    {
     "name": "stdout",
     "output_type": "stream",
     "text": [
      "[1, 2, 4, 3, 5]\n"
     ]
    }
   ],
   "source": [
    "import random\n",
    "\n",
    "a = [1, 2, 3, 4, 5]\n",
    "b = random.sample(a, len(a))\n",
    "print(b)"
   ]
  },
  {
   "cell_type": "markdown",
   "id": "90294af0-b358-4afc-96d8-d9131b4546f7",
   "metadata": {},
   "source": [
    "### 21.Write a code that takes two tuples as input and returns a new tuple containing elements that are common to both input tuples"
   ]
  },
  {
   "cell_type": "code",
   "execution_count": 4,
   "id": "198aeaf9-1d7e-4435-919e-f9f26ecfad02",
   "metadata": {},
   "outputs": [
    {
     "name": "stdin",
     "output_type": "stream",
     "text": [
      "Enter elements of first tuple separated by space:  1 2 3 4 5\n",
      "Enter elements of second tuple separated by space:  2 3 4 5 6\n"
     ]
    },
    {
     "name": "stdout",
     "output_type": "stream",
     "text": [
      "Common elements: (2, 3, 4, 5)\n"
     ]
    }
   ],
   "source": [
    "# Take user input for two tuples\n",
    "tuple1 = tuple(map(int, input(\"Enter elements of first tuple separated by space: \").split()))\n",
    "tuple2 = tuple(map(int, input(\"Enter elements of second tuple separated by space: \").split()))\n",
    "\n",
    "# Convert tuples to sets to find common elements\n",
    "common_set = set(tuple1) & set(tuple2)\n",
    "\n",
    "# Convert back to tuple\n",
    "result = tuple(common_set)\n",
    "\n",
    "print(\"Common elements:\", result)"
   ]
  },
  {
   "cell_type": "markdown",
   "id": "0be991c8-43ba-4768-8df7-c70cac78e78d",
   "metadata": {},
   "source": [
    "### 22. Create a code that prompts the user to enter two sets of integers separated by commas. Then, print the intersection of these two sets"
   ]
  },
  {
   "cell_type": "code",
   "execution_count": 6,
   "id": "afc0b078-5af3-4f5a-88a1-84712f761a64",
   "metadata": {},
   "outputs": [
    {
     "name": "stdin",
     "output_type": "stream",
     "text": [
      "Enter elements of first set separated by commas:  1,2,3,4\n",
      "Enter elements of second set separated by commas:  2,3,4,5\n"
     ]
    },
    {
     "name": "stdout",
     "output_type": "stream",
     "text": [
      "Common elements: {2, 3, 4}\n"
     ]
    }
   ],
   "source": [
    "\n",
    "set1 = set(map(int, input(\"Enter elements of first set separated by commas: \").split(',')))\n",
    "set2 = set(map(int, input(\"Enter elements of second set separated by commas: \").split(',')))\n",
    "\n",
    "intersection = set1 & set2\n",
    "\n",
    "\n",
    "print(\"Common elements:\", intersection)\n"
   ]
  },
  {
   "cell_type": "markdown",
   "id": "1589586d-0e9a-4700-a703-230618d9784c",
   "metadata": {},
   "source": [
    "### 23.Write a code to concatenate two tuples. The function should take two tuples as input and return a new tuple containing elements from both input tuples.\n",
    " "
   ]
  },
  {
   "cell_type": "code",
   "execution_count": 2,
   "id": "66a56c5f-af58-4c5f-9323-cc896f231805",
   "metadata": {},
   "outputs": [
    {
     "name": "stdin",
     "output_type": "stream",
     "text": [
      "Enter the first tuple (elements separated by commas):  1,2,3,4\n",
      "Enter the second tuple (elements separated by commas):  5,6,7,8\n"
     ]
    },
    {
     "name": "stdout",
     "output_type": "stream",
     "text": [
      "Concatenated Tuple: (1, 2, 3, 4, 5, 6, 7, 8)\n"
     ]
    }
   ],
   "source": [
    "tuple1 = tuple(map(int, input(\"Enter the first tuple (elements separated by commas): \").split(',')))\n",
    "tuple2 = tuple(map(int, input(\"Enter the second tuple (elements separated by commas): \").split(',')))\n",
    "\n",
    "# Concatenating the two tuples\n",
    "result = tuple1 + tuple2\n",
    "\n",
    "print(\"Concatenated Tuple:\", result)"
   ]
  },
  {
   "cell_type": "markdown",
   "id": "d93bb90f-14bd-465c-8714-1a1e5f87df14",
   "metadata": {},
   "source": [
    "### 24.Develop a code that prompts the user to input two sets of strings. Then, print the elements that are present in the first set but not in the second set"
   ]
  },
  {
   "cell_type": "code",
   "execution_count": 3,
   "id": "c46aafcd-3fda-426c-9803-d338193b974d",
   "metadata": {},
   "outputs": [
    {
     "name": "stdin",
     "output_type": "stream",
     "text": [
      "Enter the first set of strings (separate by commas):  apple,banana,orange,grape\n",
      "Enter the second set of strings (separate by commas):  banana,kiwi,orange,mango\n"
     ]
    },
    {
     "name": "stdout",
     "output_type": "stream",
     "text": [
      "Elements in the first set but not in the second set: {'apple', 'grape'}\n"
     ]
    }
   ],
   "source": [
    "set1_input = input(\"Enter the first set of strings (separate by commas): \").split(',')\n",
    "set2_input = input(\"Enter the second set of strings (separate by commas): \").split(',')\n",
    "\n",
    "# Converting the inputs into sets\n",
    "set1 = set(set1_input)\n",
    "set2 = set(set2_input)\n",
    "\n",
    "# Finding the elements that are in set1 but not in set2\n",
    "result = set1 - set2\n",
    "\n",
    "print(\"Elements in the first set but not in the second set:\", result)"
   ]
  },
  {
   "cell_type": "markdown",
   "id": "734a2dd6-0c5f-468c-87dd-2b20ddd22baa",
   "metadata": {},
   "source": [
    "### 25. Create a code that takes a tuple and two integers as input. The function should return a new tuple containing elements from the original tuple within the specified range of indices"
   ]
  },
  {
   "cell_type": "code",
   "execution_count": 6,
   "id": "ddffaa37-c6ac-4f5e-aa14-0e63af5962c1",
   "metadata": {},
   "outputs": [
    {
     "name": "stdin",
     "output_type": "stream",
     "text": [
      "Enter the tuple elements (separated by commas):  5,10,15,20,25,30,35,40,45\n",
      "Enter the start index:  1\n",
      "Enter the end index:  5\n"
     ]
    },
    {
     "name": "stdout",
     "output_type": "stream",
     "text": [
      "New tuple containing elements within the specified range: (10, 15, 20, 25)\n"
     ]
    }
   ],
   "source": [
    "input_tuple = tuple(map(int, input(\"Enter the tuple elements (separated by commas): \").split(',')))\n",
    "\n",
    "# Taking input for the start and end indices\n",
    "start_index = int(input(\"Enter the start index: \"))\n",
    "end_index = int(input(\"Enter the end index: \"))\n",
    "\n",
    "# Slicing the tuple to get the elements within the specified range\n",
    "result = input_tuple[start_index:end_index]\n",
    "\n",
    "# Printing the result\n",
    "print(\"New tuple containing elements within the specified range:\", result)"
   ]
  },
  {
   "cell_type": "markdown",
   "id": "56e08953-d26a-46c5-8733-6fff23ccfc96",
   "metadata": {},
   "source": [
    "### 26.Write a code that prompts the user to input two sets of characters. Then, print the union of these two sets"
   ]
  },
  {
   "cell_type": "code",
   "execution_count": 11,
   "id": "d464f4da-c79a-4fda-aa14-ddac4f1366f5",
   "metadata": {},
   "outputs": [
    {
     "name": "stdin",
     "output_type": "stream",
     "text": [
      "Enter the first set of characters (separate by spaces):  a b c d f \n",
      "Enter the second set of characters (separate by spaces):  e d f g \n"
     ]
    },
    {
     "name": "stdout",
     "output_type": "stream",
     "text": [
      "Union of the two sets: {'c', 'b', 'd', 'g', 'e', 'f', 'a'}\n"
     ]
    }
   ],
   "source": [
    "set1_input = input(\"Enter the first set of characters (separate by spaces): \").split()\n",
    "\n",
    "set2_input = input(\"Enter the second set of characters (separate by spaces): \").split()\n",
    "\n",
    "# Converting the input lists into sets\n",
    "set1 = set(set1_input)\n",
    "set2 = set(set2_input)\n",
    "\n",
    "# Finding the union of the two sets\n",
    "union_set = set1 | set2\n",
    "\n",
    "\n",
    "print(\"Union of the two sets:\", union_set)"
   ]
  },
  {
   "cell_type": "markdown",
   "id": "a2122cd5-3b12-4237-a76a-8e7aa548d7d2",
   "metadata": {},
   "source": [
    "### 27. Develop a code that takes a tuple of integers as input. The function should return the maximum and minimum values from the tuple using tuple unpacking"
   ]
  },
  {
   "cell_type": "code",
   "execution_count": 9,
   "id": "d4930759-f77f-43f3-98a2-66087c23c1c2",
   "metadata": {},
   "outputs": [
    {
     "name": "stdin",
     "output_type": "stream",
     "text": [
      "Enter the tuple of integers (separated by commas):  10,20,2,3,50,60\n"
     ]
    },
    {
     "name": "stdout",
     "output_type": "stream",
     "text": [
      "Maximum value: 60\n",
      "Minimum value: 2\n"
     ]
    }
   ],
   "source": [
    "input_tuple = tuple(map(int, input(\"Enter the tuple of integers (separated by commas): \").split(',')))\n",
    "\n",
    "# Using tuple unpacking to get the maximum and minimum values\n",
    "max_value, min_value = max(input_tuple), min(input_tuple)\n",
    "\n",
    "print(f\"Maximum value: {max_value}\")\n",
    "print(f\"Minimum value: {min_value}\")"
   ]
  },
  {
   "cell_type": "markdown",
   "id": "8c6a2ce1-33f4-4944-9e44-9be02a209621",
   "metadata": {},
   "source": [
    "### 28.Create a code that defines two sets of integers. Then, print the union, intersection, and difference of these two sets"
   ]
  },
  {
   "cell_type": "code",
   "execution_count": 10,
   "id": "0fe21d6b-25ad-45ff-afbb-ef8f06eb9fa9",
   "metadata": {},
   "outputs": [
    {
     "name": "stdout",
     "output_type": "stream",
     "text": [
      "Union of the two sets: {1, 2, 3, 4, 5, 6, 7, 8, 9}\n",
      "Intersection of the two sets: {5, 6}\n",
      "Difference of the two sets (set1 - set2): {1, 2, 3, 4}\n"
     ]
    }
   ],
   "source": [
    "# Defining two sets of integers\n",
    "set1 = {1, 2, 3, 4, 5,6}\n",
    "set2 = {5, 5, 6, 7, 8,9}\n",
    "\n",
    "# Union of the two sets\n",
    "union_set = set1 |set2\n",
    "\n",
    "# Intersection of the two sets\n",
    "intersection_set = set1 & set2\n",
    "\n",
    "# Difference of the two sets (elements in set1 but not in set2)\n",
    "difference_set = set1 - set2\n",
    "\n",
    "print(\"Union of the two sets:\", union_set)\n",
    "print(\"Intersection of the two sets:\", intersection_set)\n",
    "print(\"Difference of the two sets (set1 - set2):\", difference_set)"
   ]
  },
  {
   "cell_type": "markdown",
   "id": "2e2d8f72-4991-4d8f-b7ea-5091feaa1e6b",
   "metadata": {},
   "source": [
    " ### 29.Write a code that takes a tuple and an element as input. The function should return the count of occurrences of the given element in the tuple"
   ]
  },
  {
   "cell_type": "code",
   "execution_count": 13,
   "id": "5fd47fb7-7b84-41f7-b3fb-930ba5a1289a",
   "metadata": {},
   "outputs": [
    {
     "name": "stdin",
     "output_type": "stream",
     "text": [
      "Enter the tuple elements (separated by commas):  2,1,1,2,2,4,4,5,5,3\n",
      "Enter the element to count:  1\n"
     ]
    },
    {
     "name": "stdout",
     "output_type": "stream",
     "text": [
      "The element 1 occurs 2 time(s) in the tuple.\n"
     ]
    }
   ],
   "source": [
    "# Taking input for the tuple\n",
    "input_tuple = tuple(map(int, input(\"Enter the tuple elements (separated by commas): \").split(',')))\n",
    "\n",
    "# Taking input for the element to count\n",
    "element = int(input(\"Enter the element to count: \"))\n",
    "\n",
    "# Counting the occurrences of the element in the tuple\n",
    "count = input_tuple.count(element)\n",
    "\n",
    "print(f\"The element {element} occurs {count} time(s) in the tuple.\")"
   ]
  },
  {
   "cell_type": "markdown",
   "id": "ea430dda-7f62-46b0-a841-bbce334726be",
   "metadata": {},
   "source": [
    "### 30. Develop a code that prompts the user to input two sets of strings. Then, print the symmetric difference of these two sets"
   ]
  },
  {
   "cell_type": "code",
   "execution_count": 15,
   "id": "7dc36aa0-2fd7-4350-a72f-b51697aab0c3",
   "metadata": {},
   "outputs": [
    {
     "name": "stdin",
     "output_type": "stream",
     "text": [
      "Enter the first set of strings (separate by spaces):  apple banana mango orange\n",
      "Enter the second set of strings (separate by spaces):  cheery mango dates apple\n"
     ]
    },
    {
     "name": "stdout",
     "output_type": "stream",
     "text": [
      "Symmetric difference of the two sets: {'cheery', 'dates', 'banana', 'orange'}\n"
     ]
    }
   ],
   "source": [
    "# Taking input for the first set of strings\n",
    "set1_input = input(\"Enter the first set of strings (separate by spaces): \").split()\n",
    "\n",
    "# Taking input for the second set of strings\n",
    "set2_input = input(\"Enter the second set of strings (separate by spaces): \").split()\n",
    "\n",
    "# Converting the input lists into sets\n",
    "set1 = set(set1_input)\n",
    "set2 = set(set2_input)\n",
    "\n",
    "# Finding the symmetric difference of the two sets\n",
    "symmetric_difference = set1 ^ set2\n",
    "\n",
    "print(\"Symmetric difference of the two sets:\", symmetric_difference)"
   ]
  },
  {
   "cell_type": "markdown",
   "id": "641b2d26-68a9-48eb-b20e-09bf924ddbb2",
   "metadata": {},
   "source": [
    "### 31. Write a code that takes a list of words as input and returns a dictionary where the keys are unique words and the values are the frequencies of those words in the input list"
   ]
  },
  {
   "cell_type": "code",
   "execution_count": 16,
   "id": "8bb16ca7-6949-4180-9d38-a80973e53209",
   "metadata": {},
   "outputs": [
    {
     "name": "stdin",
     "output_type": "stream",
     "text": [
      "Enter a list of words (separate by spaces):  pretty devil samir pretty lokesh \n"
     ]
    },
    {
     "name": "stdout",
     "output_type": "stream",
     "text": [
      "Word frequencies: {'pretty': 2, 'devil': 1, 'samir': 1, 'lokesh': 1}\n"
     ]
    }
   ],
   "source": [
    "input_words = input(\"Enter a list of words (separate by spaces): \").split()\n",
    "\n",
    "# Creating an empty dictionary to store word frequencies\n",
    "word_count = {}\n",
    "\n",
    "# Counting the frequency of each word\n",
    "for word in input_words:\n",
    "    word_count[word] = word_count.get(word, 0) + 1\n",
    "\n",
    "print(\"Word frequencies:\", word_count)"
   ]
  },
  {
   "cell_type": "markdown",
   "id": "aa8d7fea-396b-4725-b008-3c9bebe57bfe",
   "metadata": {},
   "source": [
    "### 32.Write a code that takes two dictionaries as input and merges them into a single dictionary. If there are common keys, the values should be added together"
   ]
  },
  {
   "cell_type": "code",
   "execution_count": 18,
   "id": "e815aaf6-d8d4-435f-b449-c1b742fee4a5",
   "metadata": {},
   "outputs": [
    {
     "name": "stdin",
     "output_type": "stream",
     "text": [
      "Enter the first dictionary:  {'a': 1, 'b': 2, 'c': 3}\n",
      "Enter the second dictionary:  {'b': 3, 'c': 4, 'd': 5}\n"
     ]
    },
    {
     "name": "stdout",
     "output_type": "stream",
     "text": [
      "Merged Dictionary: {'a': 1, 'b': 5, 'c': 7, 'd': 5}\n"
     ]
    }
   ],
   "source": [
    "\n",
    "dict1 = eval(input(\"Enter the first dictionary: \")) # evil() use convert string into dict\n",
    "\n",
    "# Taking input for the second dictionary\n",
    "dict2 = eval(input(\"Enter the second dictionary: \"))\n",
    "\n",
    "# Merging the two dictionaries with added values for common keys\n",
    "merged_dict = dict1.copy()  # Start with a copy of the first dictionary\n",
    "\n",
    "# Update the merged dictionary with the second dictionary\n",
    "for key, value in dict2.items():\n",
    "    merged_dict[key] = merged_dict.get(key, 0) + value\n",
    "\n",
    "print(\"Merged Dictionary:\", merged_dict)\n"
   ]
  },
  {
   "cell_type": "markdown",
   "id": "dc57fd27-f610-4385-828d-1a2d7768d5f7",
   "metadata": {},
   "source": [
    "### 33.Write a code to access a value in a nested dictionary. The function should take the dictionary and a list of keys as input, and return the corresponding value. If any of the keys do not exist in the dictionary, the function should return None\n"
   ]
  },
  {
   "cell_type": "code",
   "execution_count": 21,
   "id": "2549291c-3d5b-468e-ab03-f0697d5242f3",
   "metadata": {},
   "outputs": [
    {
     "name": "stdin",
     "output_type": "stream",
     "text": [
      "Enter the list of keys (separated by commas):  a,b,c\n"
     ]
    },
    {
     "name": "stdout",
     "output_type": "stream",
     "text": [
      "The value is: 1\n"
     ]
    }
   ],
   "source": [
    "# Nested dictionary\n",
    "nested_dict = {\n",
    "    'a': {\n",
    "        'b': {\n",
    "            'c': 1\n",
    "        }\n",
    "    },\n",
    "    'x': {\n",
    "        'y': {\n",
    "            'z': 2\n",
    "        }\n",
    "    }\n",
    "}\n",
    "\n",
    "# Taking input for the list of keys\n",
    "keys = input(\"Enter the list of keys (separated by commas): \").split(',')\n",
    "\n",
    "# Start with the original dictionary\n",
    "current_dict = nested_dict\n",
    "\n",
    "# Loop through the keys to access the value\n",
    "for key in keys:\n",
    "    if key in current_dict:\n",
    "        current_dict = current_dict[key]  # Move to the next level\n",
    "    else:\n",
    "        current_dict = None  # If key doesn't exist, set the value to None\n",
    "        break\n",
    "\n",
    "print(\"The value is:\", current_dict)\n"
   ]
  },
  {
   "cell_type": "markdown",
   "id": "304507e8-6ed3-419a-805e-abf89a6067e5",
   "metadata": {},
   "source": [
    "### 34.Write a code that takes a dictionary as input and returns a sorted version of it based on the values. You can choose whether to sort in ascending or descending order"
   ]
  },
  {
   "cell_type": "markdown",
   "id": "f7ce1955-bd20-4dd2-8e75-12578fc408be",
   "metadata": {},
   "source": [
    "### 35. Write a code that inverts a dictionary, swapping keys and values. Ensure that the inverted dictionary correctly handles cases where multiple keys have the same value by storing the keys as a list in the inverted dictionary"
   ]
  },
  {
   "cell_type": "code",
   "execution_count": 22,
   "id": "5f126381-0c0a-46ed-9a5b-8b40757746de",
   "metadata": {},
   "outputs": [
    {
     "name": "stdin",
     "output_type": "stream",
     "text": [
      "Enter a dictionary:  {'a': 10, 'b': 20, 'c': 10, 'd': 35}\n"
     ]
    },
    {
     "name": "stdout",
     "output_type": "stream",
     "text": [
      "Inverted Dictionary: {10: ['a', 'c'], 20: ['b'], 35: ['d']}\n"
     ]
    }
   ],
   "source": [
    "# Taking input for the dictionary\n",
    "input_dict = eval(input(\"Enter a dictionary: \"))\n",
    "\n",
    "# Creating an empty dictionary to store the inverted dictionary\n",
    "inverted_dict = {}\n",
    "\n",
    "# Looping through the original dictionary to invert it\n",
    "for key, value in input_dict.items():\n",
    "    if value in inverted_dict:\n",
    "        inverted_dict[value].append(key)  # If the value already exists as a key, append the current key to the list\n",
    "    else:\n",
    "        inverted_dict[value] = [key]  # If the value does not exist, create a new list with the current key\n",
    "\n",
    "\n",
    "print(\"Inverted Dictionary:\", inverted_dict)\n",
    " \n",
    " \n",
    "\n",
    "\n"
   ]
  },
  {
   "cell_type": "code",
   "execution_count": null,
   "id": "8cccdcb4-9449-4b4a-9e03-5e716e4dfc55",
   "metadata": {},
   "outputs": [],
   "source": []
  }
 ],
 "metadata": {
  "kernelspec": {
   "display_name": "Python 3 (ipykernel)",
   "language": "python",
   "name": "python3"
  },
  "language_info": {
   "codemirror_mode": {
    "name": "ipython",
    "version": 3
   },
   "file_extension": ".py",
   "mimetype": "text/x-python",
   "name": "python",
   "nbconvert_exporter": "python",
   "pygments_lexer": "ipython3",
   "version": "3.12.4"
  }
 },
 "nbformat": 4,
 "nbformat_minor": 5
}
